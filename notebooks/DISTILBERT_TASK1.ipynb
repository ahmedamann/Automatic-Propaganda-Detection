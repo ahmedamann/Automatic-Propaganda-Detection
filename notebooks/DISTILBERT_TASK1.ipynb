{
 "cells": [
  {
   "cell_type": "code",
   "execution_count": 1,
   "id": "3d13bc1f-7178-41d6-9eb2-28a315d2166f",
   "metadata": {},
   "outputs": [],
   "source": [
    "import os\n",
    "import pandas as pd\n",
    "\n",
    "# prepare the data. Read tsv files into a datafram and drop not_propaganda instances. \n",
    "def load_data_and_return_dataframe(data_dir=\".\", propaganda_only=False):\n",
    "    train_data_path = os.path.join(data_dir, \"propaganda_train.tsv\")\n",
    "    test_data_path = os.path.join(data_dir, \"propaganda_val.tsv\")\n",
    "    \n",
    "    train_data = pd.read_csv(train_data_path, delimiter=\"\\t\")\n",
    "    test_data = pd.read_csv(test_data_path, delimiter=\"\\t\")\n",
    "    \n",
    "    if propaganda_only:\n",
    "        train_data = train_data[train_data['label'] != 'not_propaganda'].reset_index(drop=True)\n",
    "        test_data = test_data[test_data['label'] != 'not_propaganda'].reset_index(drop=True)\n",
    "\n",
    "    return train_data, test_data\n",
    "\n",
    "train_data, test_data = load_data_and_return_dataframe(propaganda_only=True)"
   ]
  },
  {
   "cell_type": "code",
   "execution_count": 2,
   "id": "1a3ee4dd-eb35-4927-9e70-291bf3a0e7f4",
   "metadata": {},
   "outputs": [],
   "source": [
    "import random, torch\n",
    "import numpy as np\n",
    "\n",
    "# set fixed seed to ensure deterministic behavior\n",
    "def set_seed(seed=291158):\n",
    "    random.seed(seed)\n",
    "    np.random.seed(seed)\n",
    "    torch.manual_seed(seed)\n",
    "    torch.cuda.manual_seed(seed)\n",
    "set_seed() "
   ]
  },
  {
   "cell_type": "code",
   "execution_count": 3,
   "id": "745128bb-75ad-43fc-a62e-ef9bd37abf1c",
   "metadata": {},
   "outputs": [],
   "source": [
    "# same function as for the first approach except this time\n",
    "# i used [SEP] token to seperate the context from the span\n",
    "\n",
    "def process_data_for_bert(data):\n",
    "    sents = []\n",
    "    labels = []\n",
    "\n",
    "    for label, text in data.values:\n",
    "        bos_idx = text.find(\"<BOS>\")\n",
    "        eos_idx = text.find(\"<EOS>\")\n",
    "\n",
    "        span = text[bos_idx + len(\"<BOS>\"):eos_idx].strip()\n",
    "        context = text.replace(\"<BOS>\", \"\").replace(\"<EOS>\", \"\").strip()\n",
    "\n",
    "        sent = context + \" [SEP] \" + span\n",
    " \n",
    "        sents.append(sent)\n",
    "        labels.append(label)\n",
    "\n",
    "    return sents, labels"
   ]
  },
  {
   "cell_type": "code",
   "execution_count": 5,
   "id": "19139727-eb24-48e6-8c03-2d8ed90f652b",
   "metadata": {},
   "outputs": [],
   "source": [
    "from transformers import AutoTokenizer\n",
    "\n",
    "# define model name\n",
    "model_name = \"distilbert-base-cased\" \n",
    "\n",
    "# init the tokenizer\n",
    "tokenizer = AutoTokenizer.from_pretrained(model_name)\n",
    "\n",
    "# define the label list, label2id and id2label correct mapping\n",
    "label_list = sorted(train_data[\"label\"].unique())\n",
    "label2id = {label: i for i, label in enumerate(label_list)}\n",
    "id2label = {i: label for label, i in label2id.items()}"
   ]
  },
  {
   "cell_type": "code",
   "execution_count": 6,
   "id": "1fcfcd1d-47af-49c6-80fc-7f2e38a3bddb",
   "metadata": {},
   "outputs": [
    {
     "data": {
      "application/vnd.jupyter.widget-view+json": {
       "model_id": "faf647ede8b64cea87d8b29409b20ae0",
       "version_major": 2,
       "version_minor": 0
      },
      "text/plain": [
       "Map:   0%|          | 0/1223 [00:00<?, ? examples/s]"
      ]
     },
     "metadata": {},
     "output_type": "display_data"
    },
    {
     "data": {
      "application/vnd.jupyter.widget-view+json": {
       "model_id": "ab642bbd1a544f6589afe7ac63f85951",
       "version_major": 2,
       "version_minor": 0
      },
      "text/plain": [
       "Map:   0%|          | 0/279 [00:00<?, ? examples/s]"
      ]
     },
     "metadata": {},
     "output_type": "display_data"
    }
   ],
   "source": [
    "from datasets import Dataset, DatasetDict\n",
    "import numpy as np\n",
    "import torch\n",
    "\n",
    "X_train, Y_train = process_data_for_bert(train_data)\n",
    "X_test, Y_test = process_data_for_bert(test_data)\n",
    "\n",
    "# Encode labels\n",
    "Y_train_ids = [label2id[y] for y in Y_train]\n",
    "Y_test_ids = [label2id[y] for y in Y_test]\n",
    "\n",
    "# Convert to HF datasets\n",
    "train_dataset = Dataset.from_dict({\n",
    "    \"text\": X_train,\n",
    "    \"label\": Y_train_ids\n",
    "})\n",
    "test_dataset = Dataset.from_dict({\n",
    "    \"text\": X_test,\n",
    "    \"label\": Y_test_ids\n",
    "})\n",
    "\n",
    "# Tokenization function\n",
    "def tokenize_function(example):\n",
    "    return tokenizer(\n",
    "        example[\"text\"],\n",
    "        padding=\"max_length\",\n",
    "        truncation=True\n",
    "    )\n",
    "\n",
    "tokenized_train = train_dataset.map(tokenize_function, batched=True)\n",
    "tokenized_test = test_dataset.map(tokenize_function, batched=True)"
   ]
  },
  {
   "cell_type": "code",
   "execution_count": 7,
   "id": "053fc8b7-23de-4e64-8184-fd6143e0a02f",
   "metadata": {},
   "outputs": [
    {
     "name": "stderr",
     "output_type": "stream",
     "text": [
      "Some weights of DistilBertForSequenceClassification were not initialized from the model checkpoint at distilbert-base-cased and are newly initialized: ['classifier.bias', 'classifier.weight', 'pre_classifier.bias', 'pre_classifier.weight']\n",
      "You should probably TRAIN this model on a down-stream task to be able to use it for predictions and inference.\n"
     ]
    },
    {
     "data": {
      "text/plain": [
       "DistilBertForSequenceClassification(\n",
       "  (distilbert): DistilBertModel(\n",
       "    (embeddings): Embeddings(\n",
       "      (word_embeddings): Embedding(28996, 768, padding_idx=0)\n",
       "      (position_embeddings): Embedding(512, 768)\n",
       "      (LayerNorm): LayerNorm((768,), eps=1e-12, elementwise_affine=True)\n",
       "      (dropout): Dropout(p=0.1, inplace=False)\n",
       "    )\n",
       "    (transformer): Transformer(\n",
       "      (layer): ModuleList(\n",
       "        (0-5): 6 x TransformerBlock(\n",
       "          (attention): DistilBertSdpaAttention(\n",
       "            (dropout): Dropout(p=0.1, inplace=False)\n",
       "            (q_lin): Linear(in_features=768, out_features=768, bias=True)\n",
       "            (k_lin): Linear(in_features=768, out_features=768, bias=True)\n",
       "            (v_lin): Linear(in_features=768, out_features=768, bias=True)\n",
       "            (out_lin): Linear(in_features=768, out_features=768, bias=True)\n",
       "          )\n",
       "          (sa_layer_norm): LayerNorm((768,), eps=1e-12, elementwise_affine=True)\n",
       "          (ffn): FFN(\n",
       "            (dropout): Dropout(p=0.1, inplace=False)\n",
       "            (lin1): Linear(in_features=768, out_features=3072, bias=True)\n",
       "            (lin2): Linear(in_features=3072, out_features=768, bias=True)\n",
       "            (activation): GELUActivation()\n",
       "          )\n",
       "          (output_layer_norm): LayerNorm((768,), eps=1e-12, elementwise_affine=True)\n",
       "        )\n",
       "      )\n",
       "    )\n",
       "  )\n",
       "  (pre_classifier): Linear(in_features=768, out_features=768, bias=True)\n",
       "  (classifier): Linear(in_features=768, out_features=8, bias=True)\n",
       "  (dropout): Dropout(p=0.2, inplace=False)\n",
       ")"
      ]
     },
     "execution_count": 7,
     "metadata": {},
     "output_type": "execute_result"
    }
   ],
   "source": [
    "from transformers import AutoModelForSequenceClassification, Trainer, TrainingArguments\n",
    "\n",
    "model = AutoModelForSequenceClassification.from_pretrained(\n",
    "    model_name,\n",
    "    num_labels=len(label_list),\n",
    "    label2id=label2id,\n",
    "    id2label=id2label\n",
    ")\n",
    "\n",
    "device = torch.device(\"cuda\" if torch.cuda.is_available() else \"cpu\")\n",
    "model.to(device)"
   ]
  },
  {
   "cell_type": "code",
   "execution_count": null,
   "id": "4fbcf563-552e-4024-9375-c710096fff31",
   "metadata": {},
   "outputs": [],
   "source": [
    "training_args = TrainingArguments(\n",
    "    output_dir=\"./results\",\n",
    "    eval_strategy=\"epoch\",\n",
    "    save_strategy=\"epoch\",\n",
    "    learning_rate=2e-5,\n",
    "    num_train_epochs=15,\n",
    "    metric_for_best_model=\"accuracy\",\n",
    "    greater_is_better=True,\n",
    "    load_best_model_at_end=True,\n",
    "    weight_decay=0.01,\n",
    "    logging_dir=\"./logs\",\n",
    "    logging_steps=100\n",
    ")"
   ]
  },
  {
   "cell_type": "code",
   "execution_count": null,
   "id": "869c2778-f609-47ac-a75f-aa6722eb6335",
   "metadata": {},
   "outputs": [],
   "source": [
    "from sklearn.metrics import accuracy_score, f1_score\n",
    "\n",
    "# define compute metrics function,\n",
    "# here i am using accuary score only,\n",
    "# this is because the classes are balanced\n",
    "\n",
    "def compute_metrics(eval_pred):\n",
    "    logits, labels = eval_pred\n",
    "    preds = np.argmax(logits, axis=-1)\n",
    "    return {\n",
    "        \"accuracy\": accuracy_score(labels, preds)\n",
    "    }"
   ]
  },
  {
   "cell_type": "markdown",
   "id": "5fcdc6e3-c674-4921-918a-5930c27a663c",
   "metadata": {},
   "source": [
    "## Train Model"
   ]
  },
  {
   "cell_type": "code",
   "execution_count": null,
   "id": "325fdea9-379f-4583-bcf0-bf04bc0b4734",
   "metadata": {},
   "outputs": [],
   "source": [
    "from transformers import Trainer, EarlyStoppingCallback\n",
    "\n",
    "trainer = Trainer(\n",
    "    model=model,\n",
    "    args=training_args,\n",
    "    train_dataset=tokenized_train,\n",
    "    eval_dataset=tokenized_test,\n",
    "    tokenizer=tokenizer,\n",
    "    compute_metrics=compute_metrics,\n",
    "    callbacks=[EarlyStoppingCallback(early_stopping_patience=3)]\n",
    ")\n",
    "\n",
    "trainer.train()"
   ]
  },
  {
   "cell_type": "markdown",
   "id": "5c2ec8b0-ebde-44f8-9e7b-0ac207308d37",
   "metadata": {},
   "source": [
    "## Evaluate Model"
   ]
  },
  {
   "cell_type": "code",
   "execution_count": null,
   "id": "6349c927-2ceb-430d-85bc-116fc8fc34ca",
   "metadata": {},
   "outputs": [],
   "source": [
    "from sklearn.metrics import classification_report, confusion_matrix, ConfusionMatrixDisplay, accuracy_score\n",
    "import matplotlib.pyplot as plt\n",
    "\n",
    "preds_output = trainer.predict(tokenized_test)\n",
    "preds = np.argmax(preds_output.predictions, axis=1)\n",
    "\n",
    "print(f\"Accuracy Score: {accuracy_score(Y_test_ids, preds):.4f}\")\n",
    "\n",
    "cm = confusion_matrix(Y_test_ids, preds)\n",
    "disp = ConfusionMatrixDisplay(confusion_matrix=cm)\n",
    "disp.plot()\n",
    "# Save plot\n",
    "plt.savefig(\"confusion_matrix_distilbert.png\")"
   ]
  },
  {
   "cell_type": "markdown",
   "id": "a6c8e9a2-2957-4fe2-bfc1-b03644ee8e1e",
   "metadata": {},
   "source": [
    "## Save Model"
   ]
  },
  {
   "cell_type": "code",
   "execution_count": null,
   "id": "60aa87cd-6e65-4349-9b43-cd6e7f1327e5",
   "metadata": {},
   "outputs": [],
   "source": [
    "trainer.save_model(\"distilbert-for-propaganda-type-classification\")"
   ]
  },
  {
   "cell_type": "code",
   "execution_count": null,
   "id": "a04fa746-0de8-4c90-ad37-2570459c0fde",
   "metadata": {},
   "outputs": [],
   "source": []
  }
 ],
 "metadata": {
  "kernelspec": {
   "display_name": "Python 3 (ipykernel)",
   "language": "python",
   "name": "python3"
  },
  "language_info": {
   "codemirror_mode": {
    "name": "ipython",
    "version": 3
   },
   "file_extension": ".py",
   "mimetype": "text/x-python",
   "name": "python",
   "nbconvert_exporter": "python",
   "pygments_lexer": "ipython3",
   "version": "3.12.5"
  }
 },
 "nbformat": 4,
 "nbformat_minor": 5
}
